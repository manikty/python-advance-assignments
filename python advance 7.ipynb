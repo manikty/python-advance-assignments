{
 "cells": [
  {
   "cell_type": "raw",
   "id": "b74a516b",
   "metadata": {},
   "source": [
    "Q1. What is the purpose of the try statement?\n",
    "Try statement is used to trigger exception. If code in try block causes some run time error, then try will throw an exception. Exception is caught by except block."
   ]
  },
  {
   "cell_type": "raw",
   "id": "f8e01a74",
   "metadata": {},
   "source": [
    "Q2. What are the two most popular try statement variations?\n",
    "IOError – It occurs on errors like a file fails to open. ImportError – If a python module can’t be loaded or located. KeyboardInterrupt : when an unrequired key is pressed by the user ValueError : when built-in function receives a wrong argument EOFError : if End-Of-File is hit without reading any data\n",
    "\n",
    "How try() works?\n",
    "\n",
    "First, try clause is executed i.e. the code between try and except clause. If there is no exception, then only try clause will run, except clause is finished. If any exception occured, try clause will be skipped and except clause will run. If any exception occurs, but the except clause within the code doesn’t handle it, it is passed on to the outer try statements. If the exception left unhandled, then the execution stops. A try statement can have more than one except clause"
   ]
  },
  {
   "cell_type": "raw",
   "id": "8afb689f",
   "metadata": {},
   "source": [
    "Q3. What is the purpose of the raise statement?\n",
    "raise statement is used to raise an exception. You can define what kind of error to raise."
   ]
  },
  {
   "cell_type": "code",
   "execution_count": 1,
   "id": "6328c8b0",
   "metadata": {},
   "outputs": [
    {
     "ename": "AssertionError",
     "evalue": "number should be greater than 0",
     "output_type": "error",
     "traceback": [
      "\u001b[1;31m---------------------------------------------------------------------------\u001b[0m",
      "\u001b[1;31mAssertionError\u001b[0m                            Traceback (most recent call last)",
      "Input \u001b[1;32mIn [1]\u001b[0m, in \u001b[0;36m<cell line: 5>\u001b[1;34m()\u001b[0m\n\u001b[0;32m      1\u001b[0m \u001b[38;5;124;03m\"\"\"Q4. What does the assert statement do, and what other statement is it like?\u001b[39;00m\n\u001b[0;32m      2\u001b[0m \u001b[38;5;124;03mThe assert statement lets you test if a condition in your code returns True, if not, the program will\u001b[39;00m\n\u001b[0;32m      3\u001b[0m \u001b[38;5;124;03mraise an AssertionError.It is like raise statement, where we can create our custom exceptions.\"\"\"\u001b[39;00m\n\u001b[0;32m      4\u001b[0m x \u001b[38;5;241m=\u001b[39m \u001b[38;5;241m0\u001b[39m\n\u001b[1;32m----> 5\u001b[0m \u001b[38;5;28;01massert\u001b[39;00m  x \u001b[38;5;241m>\u001b[39m \u001b[38;5;241m0\u001b[39m, \u001b[38;5;124m\"\u001b[39m\u001b[38;5;124mnumber should be greater than 0\u001b[39m\u001b[38;5;124m\"\u001b[39m\n\u001b[0;32m      6\u001b[0m \u001b[38;5;28mprint\u001b[39m(\u001b[38;5;124m\"\u001b[39m\u001b[38;5;124meven\u001b[39m\u001b[38;5;124m\"\u001b[39m)\n",
      "\u001b[1;31mAssertionError\u001b[0m: number should be greater than 0"
     ]
    }
   ],
   "source": [
    "\"\"\"Q4. What does the assert statement do, and what other statement is it like?\n",
    "The assert statement lets you test if a condition in your code returns True, if not, the program will\n",
    "raise an AssertionError.It is like raise statement, where we can create our custom exceptions.\"\"\"\n",
    "x = 0\n",
    "assert  x > 0, \"number should be greater than 0\"\n",
    "print(\"even\")"
   ]
  },
  {
   "cell_type": "raw",
   "id": "1119b71a",
   "metadata": {},
   "source": [
    "Q5. What is the purpose of the with/as argument, and what other statement is it like?\n",
    "with statement in Python is used in exception handling to make the code cleaner and much more readable. It simplifies the management of common resources like file streams. The with statement itself ensures proper acquisition and release of resources. This allows common try…except…finally usage patterns to be encapsulated for convenient reuse.\n",
    "\n",
    "when \"as\" is used after \"with\", it will reassign the the returned object to a new identifier."
   ]
  }
 ],
 "metadata": {
  "kernelspec": {
   "display_name": "Python 3 (ipykernel)",
   "language": "python",
   "name": "python3"
  },
  "language_info": {
   "codemirror_mode": {
    "name": "ipython",
    "version": 3
   },
   "file_extension": ".py",
   "mimetype": "text/x-python",
   "name": "python",
   "nbconvert_exporter": "python",
   "pygments_lexer": "ipython3",
   "version": "3.9.12"
  }
 },
 "nbformat": 4,
 "nbformat_minor": 5
}
