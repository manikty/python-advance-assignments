{
 "cells": [
  {
   "cell_type": "raw",
   "id": "31462cac",
   "metadata": {},
   "source": [
    "\"1. Compare and contrast the float and Decimal classes' benefits and drawbacks.\"\"\n",
    "# Ans : Example of float value\n",
    "a = 0.35\n",
    "print(type(a))\n",
    "#       Float objects like this one are always represented internally up to a certain degree of accuracy only.\n",
    "#       This becomes evident when adding 0.1 to a:\n",
    "print(a+0.1)\n",
    "#       The reason for this is that floats are internally represented in binary format;\n",
    "#       that is, a decimal number 0 < n < 1 is represented by a series of the form . \n",
    "#       For certain floating-point numbers the binary representation might involve a large number \n",
    "#       of elements or might even be an infinite series. However, given a fixed number of bits used \n",
    "#       to represent such a number—i.e., a fixed number of terms in the representation \n",
    "#       series—inaccuracies are the consequence. Other numbers can be represented perfectly \n",
    "#       and are therefore stored exactly even with a finite number of bits available. \n",
    "#       Example is  :\n",
    "b=0.5 \n",
    "print(b.as_integer_ratio()) #i.e. 0.5 is exactly represented as 1/2\n",
    "#       incase of b=0.35\n",
    "b=0.35\n",
    "print(b.as_integer_ratio()) # Here teh b=0.35 is not exact\n",
    "#       The precision is dependent on the number of bits used to represent the number. \n",
    "#       Hence some error can creep in. It translates 15 digits accuracy for float.\n",
    "#       For example, the issue can be of importance when summing over a large set of numbers. \n",
    "#       In such a situation, a certain kind and/or magnitude of representation error might, \n",
    "#       in aggregate, lead to significant deviations from a benchmark value.\n",
    "#       In order to overcome this we use the decimal module.\n",
    "#       The module decimal provides an arbitrary-precision object for floating-point numbers \n",
    "#       and several options to address precision issues when working with such numbers:\n"
   ]
  },
  {
   "cell_type": "code",
   "execution_count": 2,
   "id": "2ce74d9d",
   "metadata": {},
   "outputs": [
    {
     "name": "stdout",
     "output_type": "stream",
     "text": [
      "Context(prec=28, rounding=ROUND_HALF_EVEN, Emin=-999999, Emax=999999, capitals=1, clamp=0, flags=[], traps=[InvalidOperation, DivisionByZero, Overflow])\n",
      "d= 0.01818181818181818181818181818\n",
      "e= 0.018182\n"
     ]
    }
   ],
   "source": [
    "import decimal\n",
    "from decimal import Decimal\n",
    "print(decimal.getcontext())\n",
    "d = Decimal(1) / Decimal (55)\n",
    "print(\"d=\",d)\n",
    "decimal.getcontext().prec = 5  # lower precision \n",
    "e=Decimal(1)/Decimal(55)\n",
    "print(\"e=\",e)"
   ]
  },
  {
   "cell_type": "code",
   "execution_count": 3,
   "id": "f36c3261",
   "metadata": {},
   "outputs": [
    {
     "name": "stdout",
     "output_type": "stream",
     "text": [
      "1.200\n",
      "1.2\n"
     ]
    }
   ],
   "source": [
    "\"\"\"2. Decimal('1.200') and Decimal('1.2') are two objects to consider. In what sense are these the same object? Are these just two ways of representing the exact same value, or do they correspond to different internal states?\"\"\"\n",
    "print(Decimal('1.200'))\n",
    "print(Decimal('1.2'))"
   ]
  },
  {
   "cell_type": "code",
   "execution_count": 5,
   "id": "15b716f3",
   "metadata": {},
   "outputs": [
    {
     "name": "stdout",
     "output_type": "stream",
     "text": [
      "True\n"
     ]
    }
   ],
   "source": [
    "\"\"\"3. What happens if the equality of Decimal('1.200') and Decimal('1.2') is checked?\"\"\"\n",
    "# Ans : It returns that the values are stored are True.\n",
    "print(Decimal('1.200') == Decimal('1.2'))"
   ]
  },
  {
   "cell_type": "raw",
   "id": "27a28950",
   "metadata": {},
   "source": [
    "4. Why is it preferable to start a Decimal object with a string rather than a floating-point value?\n",
    " Ans : Floating-point value is converted to Decimal format. Decimal can store float value with absolute\n",
    "       precision. But when float value is given as Decimal object,it first has to be converted from \n",
    "       floating point value which might already have rounding error.\n",
    "       Hence it is preferable to start a Decimal object with a string."
   ]
  },
  {
   "cell_type": "code",
   "execution_count": 6,
   "id": "b5f94a4a",
   "metadata": {},
   "outputs": [
    {
     "name": "stdout",
     "output_type": "stream",
     "text": [
      "<class 'int'>\n",
      "2\n",
      "4\n"
     ]
    }
   ],
   "source": [
    "\"\"\"5. In an arithmetic phrase, how simple is it to combine Decimal objects with integers?\"\"\"\n",
    "import decimal\n",
    "from decimal import Decimal\n",
    "val=2\n",
    "print(type(val))\n",
    "a=Decimal(val)\n",
    "print(a)\n",
    "b=a*Decimal(val)\n",
    "print(b)"
   ]
  },
  {
   "cell_type": "raw",
   "id": "04a9384f",
   "metadata": {},
   "source": [
    "6. Can Decimal objects and floating-point values be combined easily?\n",
    "answer- : Arithmetic operfations like Adding,subtracting or multiplying a Decimal object by a floating-point value is \n",
    "       generates an error. To do these operations, the floating point has to be converted to a Decimal object—for \n",
    "       example, converting from a floating-point value and then rounding. Else, arithmetic operations between the two\n",
    "      types cause runtime errors"
   ]
  },
  {
   "cell_type": "code",
   "execution_count": 7,
   "id": "7282c580",
   "metadata": {},
   "outputs": [
    {
     "name": "stdout",
     "output_type": "stream",
     "text": [
      "1/2\n"
     ]
    }
   ],
   "source": [
    "\"\"\"7. Using the Fraction class but not the Decimal class, give an example of a quantity \n",
    "that can be expressed with absolute precision.\"\"\"\n",
    "from fractions import Fraction\n",
    "val=0.5\n",
    "fr=Fraction(val)\n",
    "print(fr)"
   ]
  },
  {
   "cell_type": "code",
   "execution_count": 8,
   "id": "4e6c1c1f",
   "metadata": {},
   "outputs": [
    {
     "name": "stdout",
     "output_type": "stream",
     "text": [
      "decimal= 0.01\n",
      "fraction= 1/100\n",
      "float value= 0.010000000000000002\n"
     ]
    }
   ],
   "source": [
    "\"\"\"8. Describe a quantity that can be accurately expressed by the Decimal or Fraction classes \n",
    "but not by a floating-point value.\"\"\"\n",
    "d=Decimal('0.1') * Decimal('0.1')\n",
    "print(\"decimal=\",d)\n",
    "frac=Fraction('1/10') * Fraction('1/10')\n",
    "print(\"fraction=\",frac)\n",
    "fl=0.1*0.1\n",
    "print(\"float value=\",fl)"
   ]
  },
  {
   "cell_type": "code",
   "execution_count": 9,
   "id": "7657726a",
   "metadata": {},
   "outputs": [
    {
     "name": "stdout",
     "output_type": "stream",
     "text": [
      "1/2\n",
      "1/2\n",
      "Fraction (1,2) and Fraction(5,10) are equal\n"
     ]
    }
   ],
   "source": [
    "\"\"\"Q9.Consider the following two fraction objects: Fraction(1, 2) and Fraction(1, 2).\n",
    "(5, 10). Is the internal state of these two objects the same? Why do you think that is?\"\"\"\n",
    "from fractions import Fraction\n",
    "frac1=Fraction(1, 2)\n",
    "print(frac1)\n",
    "frac2=Fraction(5, 10)\n",
    "print(frac2)\n",
    "if (frac1 == frac2 ):\n",
    "    print('Fraction (1,2) and Fraction(5,10) are equal')"
   ]
  },
  {
   "cell_type": "code",
   "execution_count": 10,
   "id": "1e918f56",
   "metadata": {},
   "outputs": [
    {
     "name": "stdout",
     "output_type": "stream",
     "text": [
      "numerator is 1 <class 'int'>\n",
      "denominator is 2 <class 'int'>\n"
     ]
    }
   ],
   "source": [
    "\"\"\"Q10. How do the Fraction class and the integer type (int) relate to each other? Containment or inheritance?\"\"\"\n",
    "from fractions import Fraction\n",
    "\n",
    "frac = Fraction(1,2)\n",
    "print('numerator is', frac.numerator,type(frac.numerator))\n",
    "print('denominator is', frac.denominator,type(frac.numerator) )"
   ]
  },
  {
   "cell_type": "code",
   "execution_count": null,
   "id": "4487b055",
   "metadata": {},
   "outputs": [],
   "source": []
  }
 ],
 "metadata": {
  "kernelspec": {
   "display_name": "Python 3 (ipykernel)",
   "language": "python",
   "name": "python3"
  },
  "language_info": {
   "codemirror_mode": {
    "name": "ipython",
    "version": 3
   },
   "file_extension": ".py",
   "mimetype": "text/x-python",
   "name": "python",
   "nbconvert_exporter": "python",
   "pygments_lexer": "ipython3",
   "version": "3.9.12"
  }
 },
 "nbformat": 4,
 "nbformat_minor": 5
}
