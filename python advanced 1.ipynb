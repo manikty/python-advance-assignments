{
 "cells": [
  {
   "cell_type": "raw",
   "id": "cb6c47f6",
   "metadata": {},
   "source": [
    "Q1. What is the purpose of Python's OOP?\n",
    "answer-\n",
    "1)Provides a clear program structure and a clean code\n",
    "\n",
    "2)Facilitates easy maintenance and modification of existing code.\n",
    "\n",
    "3)Since the class is sharable, the code can be reused.\n",
    "\n",
    "4)Since the class is sharable, the code can be reused and many other such Advantages."
   ]
  },
  {
   "cell_type": "raw",
   "id": "8fa5772d",
   "metadata": {},
   "source": [
    "Q2. Where does an inheritance search look for an attribute?\n",
    "answer-Attribute fetches are simply tree searches. The term inheritance is applied because objects lower in a tree inherit attributes attached to objects higher in that tree. As the search proceeds from the bottom up, in a sense, the objects linked into a tree are the union of all the attributes defined in all their tree parents, all the way up the tree."
   ]
  },
  {
   "cell_type": "raw",
   "id": "3d0680f6",
   "metadata": {},
   "source": [
    "Q3. How do you distinguish between a class object and an instance object?\n",
    "answer-\n",
    "Objects and Instances are almost similar and are often used interchangeably but with a small difference. Object is a generic term , it is physically present but remains undiferrentiated. Instance is something that gives them a separate identity.\n",
    "\n",
    "Object is the physical entity for which memory is allocated. Object contains many instances.\n",
    "\n",
    "Instance : An instance is also the physical manifestation of a class that occupies memory and has data members.\n",
    "\n",
    "e.g. There is Class car, when I create c = car(), c is object. When we create different object with different specifications(car name, type, company) such as i10, i20, Creta, audi7 are called as instances which actually exists."
   ]
  },
  {
   "cell_type": "raw",
   "id": "2f84118c",
   "metadata": {},
   "source": [
    "Q4. What makes the first argument in a class’s method function special?\n",
    "answer-Self represents the instance of the class. By using the “self” keyword we can access the attributes and methods of the class in python. It binds the attributes with the given arguments.The reason you need to use self. is because Python does not use the @ syntax to refer to instance attributes. Python decided to do methods in a way that makes the instance to which the method belongs be passed automatically, but not received automatically: the first parameter of methods is the instance the method is called on."
   ]
  },
  {
   "cell_type": "raw",
   "id": "a6cdbf6f",
   "metadata": {},
   "source": [
    "Q5. What is the purpose of the init method?\n",
    "answer-The task of init method is to initialize(assign values) to the data members of the class when an object of class is created. It contains collection of statements that are executed at time of Object creation. It is run as soon as an object of a class is instantiated. The method is useful to do any initialization you want to do with your object."
   ]
  },
  {
   "cell_type": "raw",
   "id": "2873ad44",
   "metadata": {},
   "source": [
    "Q6. What is the process for creating a class instance?\n",
    "answer-To create instances of a class, you call the class using class name and pass in whatever arguments its init method accepts."
   ]
  },
  {
   "cell_type": "raw",
   "id": "8b2814dd",
   "metadata": {},
   "source": [
    "Q7. What is the process for creating a class?\n",
    "answer-The class statement creates a new class definition. The name of the class immediately follows the keyword class followed by a colon.Explained below"
   ]
  },
  {
   "cell_type": "raw",
   "id": "1364b6a2",
   "metadata": {},
   "source": [
    "Q8. How would you define the superclasses of a class?\n",
    "answer-A superclass is the class from which many subclasses can be created. The subclasses inherit the characteristics of a superclass. The superclass is also known as the parent class or base class."
   ]
  }
 ],
 "metadata": {
  "kernelspec": {
   "display_name": "Python 3 (ipykernel)",
   "language": "python",
   "name": "python3"
  },
  "language_info": {
   "codemirror_mode": {
    "name": "ipython",
    "version": 3
   },
   "file_extension": ".py",
   "mimetype": "text/x-python",
   "name": "python",
   "nbconvert_exporter": "python",
   "pygments_lexer": "ipython3",
   "version": "3.9.12"
  }
 },
 "nbformat": 4,
 "nbformat_minor": 5
}
