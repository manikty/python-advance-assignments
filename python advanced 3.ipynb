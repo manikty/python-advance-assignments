{
 "cells": [
  {
   "cell_type": "raw",
   "id": "a9abf91a",
   "metadata": {},
   "source": [
    "\"\"\"1. What is the concept of an abstract superclass?\n",
    "A class is called an Abstract class if it contains one or more abstract methods. \n",
    "An abstract method is a method that is declared, but contains no implementation.\n",
    "Abstract classes may not be instantiated, and its abstract methods must be implemented by its subclasses.\"\"\"\n",
    "\n",
    "import abc\n",
    "\n",
    "class Shape(metaclass=abc.ABCMeta):\n",
    "    @abc.abstractmethod\n",
    "    def area(self):\n",
    "        pass\n",
    "\n",
    "class Rectangle(Shape):\n",
    "    def __init__(self, x,y):\n",
    "        self.l = x\n",
    "        self.b=y\n",
    "    \n",
    "    def area(self):\n",
    "        return self.l*self.b\n",
    "    \n",
    "r = Rectangle(10,20)\n",
    "print ('area: ',r.area())\n",
    "\n",
    "\"\"\"The 'abc' module in Python library provides the infrastructure for defining custom abstract base classes.\n",
    "\n",
    "'abc' works by marking methods of the base class as abstract. This is done by @absttractmethod decorator. \n",
    "A concrete class which is a sub class of such abstract base class then implements the abstract base by overriding \n",
    "its abstract methods.The abc module defines ABCMeta class which is a metaclass for defining abstract base class\n",
    "Following example defines Shape class as an abstract base class using ABCMeta. The shape class has area() method\n",
    "decorated by abstractmethod.A Rectangle class now uses above Shape class as its parent and implementing the abstract area()\n",
    "method. Since it is a concrete class, it can be instantiated and imlemented area() method can be called.\"\"\"\n"
   ]
  },
  {
   "cell_type": "raw",
   "id": "4740d528",
   "metadata": {},
   "source": [
    "2. What happens when a class statement's top level contains a basic assignment statement?\n",
    "answer-When class statement's top level contains a basic assignment statement, it is considered as class attribute. \n",
    "    Change in the value of class attribute will affect all the instances of the class."
   ]
  },
  {
   "cell_type": "code",
   "execution_count": 4,
   "id": "d2eca651",
   "metadata": {},
   "outputs": [
    {
     "name": "stdout",
     "output_type": "stream",
     "text": [
      "1234\n",
      "2\n",
      "3\n",
      "567\n",
      "567\n"
     ]
    }
   ],
   "source": [
    "class Sample:\n",
    "    some_value = 1234\n",
    "    \n",
    "    def __init__(self, value1):\n",
    "        self.value1 = value1\n",
    "        \n",
    "s = Sample(2)       \n",
    "s1 = Sample(3)\n",
    "\n",
    "print(s.some_value)\n",
    "print(s.value1)\n",
    "print(s1.value1)\n",
    "\n",
    "Sample.some_value = 567\n",
    "print(s.some_value) \n",
    "print(s1.some_value)"
   ]
  },
  {
   "cell_type": "raw",
   "id": "26fe6a26",
   "metadata": {},
   "source": [
    "3. Why does a class need to manually call a superclass's init method?\n",
    "answer-By doing so,we can access those methods of the super-class (parent class) which have been overridden in a sub-class (child class) that inherits from it."
   ]
  },
  {
   "cell_type": "raw",
   "id": "07d4154f",
   "metadata": {},
   "source": [
    "4. How can you augment, instead of completely replacing, an inherited method?\n",
    "answer-The way to do that in Python is by calling to the original version directly, with augmented arguments."
   ]
  },
  {
   "cell_type": "raw",
   "id": "1b0095d2",
   "metadata": {},
   "source": [
    "5. How is the local scope of a class different from that of a function?\n",
    "answer-In class, if the variable is declared without self then it is accessible within that function only, kinda local variable. However if it declared using self like self.variable_name = 'somevalue', then it is accessible via any object but not via the class name.\n",
    "\n",
    "Whereas, if a variable is declared within a function then it is a local variable and is accessible to that function only."
   ]
  }
 ],
 "metadata": {
  "kernelspec": {
   "display_name": "Python 3 (ipykernel)",
   "language": "python",
   "name": "python3"
  },
  "language_info": {
   "codemirror_mode": {
    "name": "ipython",
    "version": 3
   },
   "file_extension": ".py",
   "mimetype": "text/x-python",
   "name": "python",
   "nbconvert_exporter": "python",
   "pygments_lexer": "ipython3",
   "version": "3.9.12"
  }
 },
 "nbformat": 4,
 "nbformat_minor": 5
}
