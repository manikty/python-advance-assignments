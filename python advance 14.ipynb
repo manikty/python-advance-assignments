{
 "cells": [
  {
   "cell_type": "raw",
   "id": "d9295203",
   "metadata": {},
   "source": [
    "Q1. Is an assignment operator like += only for show? Is it possible that it would lead to faster results at the runtime?\n",
    "+= is fatser and easy to write for us. runtime of a += 5 is slightly less than a = a + 5 but, the difference is really minor."
   ]
  },
  {
   "cell_type": "raw",
   "id": "cdb3b4aa",
   "metadata": {},
   "source": [
    "Q2. What is the smallest number of statements you'd have to write in most programming languages to replace the Python expression a, b = a + b, a?\n",
    "Two"
   ]
  },
  {
   "cell_type": "code",
   "execution_count": 1,
   "id": "504dd1ae",
   "metadata": {},
   "outputs": [
    {
     "name": "stdout",
     "output_type": "stream",
     "text": [
      "[0, 0, 0, 0, 0, 0, 0, 0, 0, 0, 0, 0, 0, 0, 0, 0, 0, 0, 0, 0, 0, 0, 0, 0, 0, 0, 0, 0, 0, 0, 0, 0, 0, 0, 0, 0, 0, 0, 0, 0, 0, 0, 0, 0, 0, 0, 0, 0, 0, 0, 0, 0, 0, 0, 0, 0, 0, 0, 0, 0, 0, 0, 0, 0, 0, 0, 0, 0, 0, 0, 0, 0, 0, 0, 0, 0, 0, 0, 0, 0, 0, 0, 0, 0, 0, 0, 0, 0, 0, 0, 0, 0, 0, 0, 0, 0, 0, 0, 0, 0]\n"
     ]
    }
   ],
   "source": [
    "'Q3. In Python, what is the most effective way to set a list of 100 integers to 0?'\n",
    "l = [0] * 100\n",
    "\n",
    "print(l)"
   ]
  },
  {
   "cell_type": "code",
   "execution_count": 2,
   "id": "c0534f2e",
   "metadata": {},
   "outputs": [
    {
     "name": "stdout",
     "output_type": "stream",
     "text": [
      "[1, 2, 3, 1, 2, 3, 1, 2, 3, 1, 2, 3, 1, 2, 3, 1, 2, 3, 1, 2, 3, 1, 2, 3, 1, 2, 3, 1, 2, 3, 1, 2, 3, 1, 2, 3, 1, 2, 3, 1, 2, 3, 1, 2, 3, 1, 2, 3, 1, 2, 3, 1, 2, 3, 1, 2, 3, 1, 2, 3, 1, 2, 3, 1, 2, 3, 1, 2, 3, 1, 2, 3, 1, 2, 3, 1, 2, 3, 1, 2, 3, 1, 2, 3, 1, 2, 3, 1, 2, 3, 1, 2, 3, 1, 2, 3, 1, 2, 3]\n"
     ]
    }
   ],
   "source": [
    "\"\"\"Q4. What is the most effective way to initialise a list of 99 integers that repeats the sequence 1, 2, 3? \n",
    "S If necessary, show step-by-step instructions on how to accomplish this.\"\"\"\n",
    "l1 = [1,2,3] # create a list containing 1,2,3\n",
    "\n",
    "count = int(101/len(l1)) # repeat count\n",
    "\n",
    "l =  l1 * count # * operator is used to repeat the list\n",
    "\n",
    "print(l)"
   ]
  },
  {
   "cell_type": "code",
   "execution_count": 3,
   "id": "303f18e8",
   "metadata": {},
   "outputs": [
    {
     "data": {
      "text/plain": [
       "[[1, 2, 3, 4], ['A', 'B'], [5, 6, 7, 8]]"
      ]
     },
     "execution_count": 3,
     "metadata": {},
     "output_type": "execute_result"
    }
   ],
   "source": [
    "\"\"\"Q5. If you're using IDLE to run a Python application, explain how to print a multidimensional list as efficiently?\"\"\"\n",
    "l = [[1,2,3,4],['A','B'],[5,6,7,8]]\n",
    "\n",
    "l"
   ]
  },
  {
   "cell_type": "code",
   "execution_count": 4,
   "id": "f88c174e",
   "metadata": {},
   "outputs": [
    {
     "data": {
      "text/plain": [
       "['mm', 'aa', 'nn', 'ii', 'kk']"
      ]
     },
     "execution_count": 4,
     "metadata": {},
     "output_type": "execute_result"
    }
   ],
   "source": [
    "\"Q6. Is it possible to use list comprehension with a string? If so, how can you go about doing it?\"\n",
    "s = 'manik'\n",
    "\n",
    "[i*2 for i in s]"
   ]
  },
  {
   "cell_type": "raw",
   "id": "662de07e",
   "metadata": {},
   "source": [
    "Q7. From the command line, how do you get support with a user-written Python programme? Is this possible from inside IDLE?\n",
    "Steps for command line:\n",
    "\n",
    "    1. Open command prompt.\n",
    "    2. Go to the directory containing python program file(.py)\n",
    "    3. Type \"python file_name.py\", press enter to run the file.\n",
    "\n",
    "Steps for python IDLE:\n",
    "\n",
    "    1. Open python IDLE.\n",
    "    2. Click on file>open>file_name.py\n",
    "    3. Press F5 key to run the program."
   ]
  },
  {
   "cell_type": "raw",
   "id": "1cba601a",
   "metadata": {},
   "source": [
    "Q8. Functions are said to be “first-class objects” in Python but not in most other languages, such as C++ or Java. What can you do in Python with a function (callable object) that you can't do in C or C++?\n",
    "In Python, functions are like any other object, such as an int or a list. That means that you can use functions as arguments to other functions, store functions as dictionary values, or return a function from another function. This leads to many powerful ways to use functions."
   ]
  },
  {
   "cell_type": "raw",
   "id": "8d1dbdce",
   "metadata": {},
   "source": [
    "Q9. How do you distinguish between a wrapper, a wrapped feature, and a decorator?\n",
    "A wrapper, a wrapped feature, and a decorator are all same. They can be thought of as functions which modify the functionality of another function. They help to make your code shorter and more \"Pythonic\"."
   ]
  },
  {
   "cell_type": "raw",
   "id": "c09a03b0",
   "metadata": {},
   "source": [
    "Q10. If a function is a generator function, what does it return?\n",
    "If a function is a generator function, it does not return any values, instead, it return an iterator object, which we can iterate through to get values."
   ]
  },
  {
   "cell_type": "code",
   "execution_count": 5,
   "id": "b72a8ea0",
   "metadata": {},
   "outputs": [
    {
     "name": "stdout",
     "output_type": "stream",
     "text": [
      "0\n",
      "2\n",
      "4\n",
      "6\n",
      "8\n"
     ]
    },
    {
     "data": {
      "text/plain": [
       "0"
      ]
     },
     "execution_count": 5,
     "metadata": {},
     "output_type": "execute_result"
    }
   ],
   "source": [
    "\"\"\"Q11. What is the one improvement that must be made to\n",
    "a function in order for it to become a generator function in the Python language?\"\"\"\n",
    "def even_nos(n):\n",
    "    for i in range(n):\n",
    "        if i % 2 == 0:\n",
    "            yield i\n",
    "\n",
    "for i in even_nos(10):\n",
    "    print(i)\n",
    "0"
   ]
  },
  {
   "cell_type": "raw",
   "id": "57272757",
   "metadata": {},
   "source": [
    "Q12. Identify at least one benefit of generators.\n",
    "The main advantage here is that instead of having to compute an entire series of values up front, the generator computes one value and then suspends its activity awaiting the next instruction. This feature is known as state suspension.\n",
    "\n",
    "Generators are memory efficient."
   ]
  },
  {
   "cell_type": "code",
   "execution_count": null,
   "id": "503c4191",
   "metadata": {},
   "outputs": [],
   "source": []
  }
 ],
 "metadata": {
  "kernelspec": {
   "display_name": "Python 3 (ipykernel)",
   "language": "python",
   "name": "python3"
  },
  "language_info": {
   "codemirror_mode": {
    "name": "ipython",
    "version": 3
   },
   "file_extension": ".py",
   "mimetype": "text/x-python",
   "name": "python",
   "nbconvert_exporter": "python",
   "pygments_lexer": "ipython3",
   "version": "3.9.12"
  }
 },
 "nbformat": 4,
 "nbformat_minor": 5
}
