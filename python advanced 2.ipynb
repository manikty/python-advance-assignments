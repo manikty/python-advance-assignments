{
 "cells": [
  {
   "cell_type": "raw",
   "id": "fd80172e",
   "metadata": {},
   "source": [
    "Q1. What is the relationship between classes and modules?\n",
    "answer-Modules are about providing methods that you can use across multiple classes. Modules are about functions. You dont instantiate modules(e.g. Math module) you just use methods in them.Module is like library of methods. \n",
    "Classes are about objects; it can hold its state (by keeping track of instance variables) and be duplicated as many times as you want. "
   ]
  },
  {
   "cell_type": "code",
   "execution_count": 1,
   "id": "81ad2a93",
   "metadata": {},
   "outputs": [
    {
     "name": "stdout",
     "output_type": "stream",
     "text": [
      "This is manik tyagi (an instance of a class Student)\n"
     ]
    }
   ],
   "source": [
    "\"\"\"Q2. How do you make instances and classes?\n",
    "answer-To create instances of a class, you call the class using class name and pass in\n",
    "whatever arguments its init method accepts.\n",
    "The class statement creates a new class definition. The name of the class immediately \n",
    "follows the keyword class followed by a colon.Explained below \"\"\"\n",
    "class Student:\n",
    "    def __init__(self,name):\n",
    "        self.name = name\n",
    "    \n",
    "    def __str__(self):\n",
    "        return f\"This is {self.name} (an instance of a class Student)\"\n",
    "    \n",
    "student1 = Student(\"manik tyagi\")       \n",
    "print(student1)"
   ]
  },
  {
   "cell_type": "code",
   "execution_count": 2,
   "id": "743c2aff",
   "metadata": {},
   "outputs": [
    {
     "name": "stdout",
     "output_type": "stream",
     "text": [
      "John\n"
     ]
    }
   ],
   "source": [
    "\"\"\"Q3. Where and how should be class attributes created?\n",
    "Class attributes belong to the class itself they will be shared by all the instances.\n",
    "Such attributes are defined in the class body parts usually at the top, for legibility.\"\"\"\n",
    "class Student:\n",
    "    class_teacher = 'John'\n",
    "    \n",
    "    def __init__(self,name, roll_no): \n",
    "        self.name = name \n",
    "        self.roll_no = roll_no\n",
    "    \n",
    "    def __str__(self):\n",
    "        return f\"This is {self.name} (an instance of a class Student)\"\n",
    "    \n",
    "student1 = Student(\"manik tyagi\",25)  \n",
    "\n",
    "print(student1.class_teacher)"
   ]
  },
  {
   "cell_type": "code",
   "execution_count": 3,
   "id": "df951625",
   "metadata": {},
   "outputs": [
    {
     "name": "stdout",
     "output_type": "stream",
     "text": [
      "manik tyagi\n"
     ]
    }
   ],
   "source": [
    "\"\"\"Q4. Where and how are instance attributes created?\n",
    "Unlike class attributes, instance attributes are not shared by objects.\n",
    "Every object has its own copy of the instance attribute.\n",
    "They are created in init method. How they are created is Explained below::\"\"\"\n",
    "class Student:\n",
    "    def __init__(self,name, roll_no): # to bind attributes to class when object is created\n",
    "        self.name = name \n",
    "        self.roll_no = roll_no\n",
    "    \n",
    "    def __str__(self):\n",
    "        return f\"This is {self.name} (an instance of a class Student)\"\n",
    "    \n",
    "student1 = Student(\"manik tyagi\",25)  \n",
    "\n",
    "print(student1.name) "
   ]
  },
  {
   "cell_type": "raw",
   "id": "ba043a14",
   "metadata": {},
   "source": [
    "Q5. What does the term \"self\" in a Python class mean?\n",
    "answer-Self represents the instance of the class. By using the “self” keyword we can access the attributes and methods of the class in python. It binds the attributes with the given arguments.The reason you need to use self. is because Python does not use the @ syntax to refer to instance attributes. Python decided to do methods in a way that makes the instance to which the method belongs be passed automatically, but not received automatically: the first parameter of methods is the instance the method is called on."
   ]
  },
  {
   "cell_type": "raw",
   "id": "7ef26440",
   "metadata": {},
   "source": [
    "Q6. How does a Python class handle operator overloading?\n",
    "answer-Operator Overloading means giving extended meaning beyond their predefined operational meaning.\n",
    "For example operator + is used to add two integers as well as join two strings and merge two lists. \n",
    "It is achievable because ‘+’ operator is overloaded by int class and str class"
   ]
  },
  {
   "cell_type": "code",
   "execution_count": 6,
   "id": "664069d8",
   "metadata": {},
   "outputs": [
    {
     "ename": "TypeError",
     "evalue": "unsupported operand type(s) for +: 'String' and 'str'",
     "output_type": "error",
     "traceback": [
      "\u001b[1;31m---------------------------------------------------------------------------\u001b[0m",
      "\u001b[1;31mTypeError\u001b[0m                                 Traceback (most recent call last)",
      "Input \u001b[1;32mIn [6]\u001b[0m, in \u001b[0;36m<cell line: 12>\u001b[1;34m()\u001b[0m\n\u001b[0;32m      8\u001b[0m         \u001b[38;5;28;01mreturn\u001b[39;00m \u001b[38;5;124m'\u001b[39m\u001b[38;5;124mObject: \u001b[39m\u001b[38;5;132;01m{}\u001b[39;00m\u001b[38;5;124m'\u001b[39m\u001b[38;5;241m.\u001b[39mformat(\u001b[38;5;28mself\u001b[39m\u001b[38;5;241m.\u001b[39mstring)\n\u001b[0;32m     10\u001b[0m string1 \u001b[38;5;241m=\u001b[39m String(\u001b[38;5;124m'\u001b[39m\u001b[38;5;124mHello\u001b[39m\u001b[38;5;124m'\u001b[39m)    \n\u001b[1;32m---> 12\u001b[0m \u001b[38;5;28mprint\u001b[39m(\u001b[43mstring1\u001b[49m\u001b[43m \u001b[49m\u001b[38;5;241;43m+\u001b[39;49m\u001b[38;5;124;43m'\u001b[39;49m\u001b[38;5;124;43m world\u001b[39;49m\u001b[38;5;124;43m'\u001b[39;49m)\n\u001b[0;32m     13\u001b[0m \u001b[38;5;124;03m\"\"\"This error can be avoided by adding the __ add__ method to the String class. \u001b[39;00m\n\u001b[0;32m     14\u001b[0m \u001b[38;5;124;03mThis way, we are overloading the + operator to concatenate a string object with a string.\"\"\"\u001b[39;00m\n",
      "\u001b[1;31mTypeError\u001b[0m: unsupported operand type(s) for +: 'String' and 'str'"
     ]
    }
   ],
   "source": [
    "\"\"\"Q7. When do you consider allowing operator overloading of your classes?\n",
    "Let us assumewe have an object called string1 which is a string object as defined below. Now, when we try to add a string to this string object, the compiler will throw an error.\n",
    "This is because the compiler doesn't know how to add them.\"\"\"\n",
    "class String:\n",
    "    def __init__(self, string):\n",
    "            self.string = string         \n",
    "    def __repr__(self):\n",
    "        return 'Object: {}'.format(self.string)\n",
    "\n",
    "string1 = String('Hello')    \n",
    "\n",
    "print(string1 +' world')\n",
    "\"\"\"This error can be avoided by adding the __ add__ method to the String class. \n",
    "This way, we are overloading the + operator to concatenate a string object with a string.\"\"\"\n"
   ]
  },
  {
   "cell_type": "code",
   "execution_count": 7,
   "id": "ab3cc7d6",
   "metadata": {},
   "outputs": [
    {
     "name": "stdout",
     "output_type": "stream",
     "text": [
      "Hello world\n"
     ]
    }
   ],
   "source": [
    "class String:\n",
    "    def __init__(self, string):\n",
    "            self.string = string         \n",
    "                \n",
    "    def __add__(self, other):\n",
    "          return self.string + other\n",
    "            \n",
    "    def __repr__(self):\n",
    "        return 'Object: {}'.format(self.string)\n",
    "\n",
    "string1 = String('Hello')    \n",
    "print(string1 +' world')"
   ]
  },
  {
   "cell_type": "raw",
   "id": "7eb2713c",
   "metadata": {},
   "source": [
    "Q8. What is the most popular form of operator overloading?\n",
    "answer-I feel, most popular form of operator overloading is of addition (+) operator. When two integers are passed to + operator, it will return the sum of two integers. When two strings are passed to + operator, it will return concatenation of two strings."
   ]
  },
  {
   "cell_type": "raw",
   "id": "4fb809d1",
   "metadata": {},
   "source": [
    "Q9. What are the two most important concepts to grasp in order to comprehend Python OOP code?\n",
    "Inheritance.\n",
    "Polymorphism."
   ]
  },
  {
   "cell_type": "raw",
   "id": "ea686bb7",
   "metadata": {},
   "source": []
  }
 ],
 "metadata": {
  "kernelspec": {
   "display_name": "Python 3 (ipykernel)",
   "language": "python",
   "name": "python3"
  },
  "language_info": {
   "codemirror_mode": {
    "name": "ipython",
    "version": 3
   },
   "file_extension": ".py",
   "mimetype": "text/x-python",
   "name": "python",
   "nbconvert_exporter": "python",
   "pygments_lexer": "ipython3",
   "version": "3.9.12"
  }
 },
 "nbformat": 4,
 "nbformat_minor": 5
}
