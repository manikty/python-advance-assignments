{
 "cells": [
  {
   "cell_type": "raw",
   "id": "dc6618a4",
   "metadata": {},
   "source": [
    "Q1. What are the two latest user-defined exception constraints in Python 3.X?\n",
    "a)raise statement - This is used to raise an inbuilt exception explicitly.\n",
    "b)assert statement - when condition in assert statement is true, program is executed normally. When condition is false, program gives an AssertionError."
   ]
  },
  {
   "cell_type": "raw",
   "id": "7b342989",
   "metadata": {},
   "source": [
    "Q2. How are class-based exceptions that have been raised matched to handlers?\n",
    "When exceptions are raised, then the exception is handled by the same class mentioned in except statement or its base classes. \"Exception\" is the base class(Superclass) for all other exception classes."
   ]
  },
  {
   "cell_type": "raw",
   "id": "ed6a672a",
   "metadata": {},
   "source": [
    "Q3. Describe two methods for attaching context information to exception artefacts.\n",
    "By using logging.exception() method, we can log log messages with level ERROR on the logger. I will store the information like type of error, line number, file name and path.\n",
    "By using raise keyword. It will also display Traceback of the recent exception raised."
   ]
  },
  {
   "cell_type": "code",
   "execution_count": 1,
   "id": "90f134de",
   "metadata": {},
   "outputs": [
    {
     "name": "stderr",
     "output_type": "stream",
     "text": [
      "ERROR:root:division by zero\n",
      "Traceback (most recent call last):\n",
      "  File \"C:\\Users\\rashm\\AppData\\Local\\Temp\\ipykernel_3240\\3018303915.py\", line 4, in <cell line: 3>\n",
      "    4/0\n",
      "ZeroDivisionError: division by zero\n"
     ]
    },
    {
     "ename": "ZeroDivisionError",
     "evalue": "division by zero",
     "output_type": "error",
     "traceback": [
      "\u001b[1;31m---------------------------------------------------------------------------\u001b[0m",
      "\u001b[1;31mZeroDivisionError\u001b[0m                         Traceback (most recent call last)",
      "Input \u001b[1;32mIn [1]\u001b[0m, in \u001b[0;36m<cell line: 3>\u001b[1;34m()\u001b[0m\n\u001b[0;32m      1\u001b[0m \u001b[38;5;28;01mimport\u001b[39;00m \u001b[38;5;21;01mlogging\u001b[39;00m\n\u001b[0;32m      3\u001b[0m \u001b[38;5;28;01mtry\u001b[39;00m: \n\u001b[1;32m----> 4\u001b[0m     \u001b[38;5;241;43m4\u001b[39;49m\u001b[38;5;241;43m/\u001b[39;49m\u001b[38;5;241;43m0\u001b[39;49m\n\u001b[0;32m      5\u001b[0m \u001b[38;5;28;01mexcept\u001b[39;00m \u001b[38;5;167;01mException\u001b[39;00m \u001b[38;5;28;01mas\u001b[39;00m e: \n\u001b[0;32m      6\u001b[0m     logging\u001b[38;5;241m.\u001b[39mexception(e)\n",
      "\u001b[1;31mZeroDivisionError\u001b[0m: division by zero"
     ]
    }
   ],
   "source": [
    "import logging\n",
    "  \n",
    "try: \n",
    "    4/0\n",
    "except Exception as e: \n",
    "    logging.exception(e)\n",
    "    raise"
   ]
  },
  {
   "cell_type": "code",
   "execution_count": 2,
   "id": "066df98d",
   "metadata": {},
   "outputs": [
    {
     "name": "stdout",
     "output_type": "stream",
     "text": [
      "can only concatenate str (not \"int\") to str\n"
     ]
    }
   ],
   "source": [
    "\"\"\"Q4. Describe two methods for specifying the text of an exception object's error message.\n",
    "We can print the text of an exception, by using the object of an Exception class\n",
    ". We can access different attributes like messgae, args, traceback from that object.\n",
    "By using logging.error() method\"\"\"\n",
    "try:\n",
    "    a = 'abc'\n",
    "    b = 2    \n",
    "    c = a+b\n",
    "except TypeError as e:\n",
    "    print(e)"
   ]
  },
  {
   "cell_type": "code",
   "execution_count": 3,
   "id": "53121d7a",
   "metadata": {},
   "outputs": [
    {
     "name": "stderr",
     "output_type": "stream",
     "text": [
      "ERROR:root:[Errno 2] No such file or directory: 'one.txt'\n"
     ]
    }
   ],
   "source": [
    "try:\n",
    "    file = open('one.txt','r')\n",
    "except Exception as e:\n",
    "    logging.error(e)"
   ]
  },
  {
   "cell_type": "raw",
   "id": "e08d91ae",
   "metadata": {},
   "source": [
    "Q5. Why do you no longer use string-based exceptions?\n",
    "In Python versions 1.5 and earlier, Exceptions were strings and not classes. Now all exceptions are classes, derived from the superclass BaseException. With classes it is more efficiently handled as classes have many useful features."
   ]
  }
 ],
 "metadata": {
  "kernelspec": {
   "display_name": "Python 3 (ipykernel)",
   "language": "python",
   "name": "python3"
  },
  "language_info": {
   "codemirror_mode": {
    "name": "ipython",
    "version": 3
   },
   "file_extension": ".py",
   "mimetype": "text/x-python",
   "name": "python",
   "nbconvert_exporter": "python",
   "pygments_lexer": "ipython3",
   "version": "3.9.12"
  }
 },
 "nbformat": 4,
 "nbformat_minor": 5
}
