{
 "cells": [
  {
   "cell_type": "code",
   "execution_count": 1,
   "id": "8b920483",
   "metadata": {},
   "outputs": [
    {
     "name": "stdout",
     "output_type": "stream",
     "text": [
      "Enter a:3\n",
      "Enter b:0\n",
      "division by zero\n",
      "can't divide by zero\n"
     ]
    }
   ],
   "source": [
    "\"\"\"Q1. Describe three applications for exception processing.\n",
    " answer-Exceptions are raised when the program is syntactically correct, but the code resulted in an error. \n",
    "This error does not stop the execution of the program, however, it changes the normal flow of the program.\"\"\"\n",
    "def div(a,b):   \n",
    "    try:        \n",
    "        c = a/b  \n",
    "        print(\"a/b = \",c)    \n",
    "    except Exception as e:    \n",
    "        print(e)  \n",
    "        return \"can't divide by zero\"\n",
    "    else:    \n",
    "        return \"This is else block and executed when code in try excetues without any exception\"\n",
    "        \n",
    "a = int(input(\"Enter a:\"))    \n",
    "b = int(input(\"Enter b:\"))           \n",
    "print(div(a,b))"
   ]
  },
  {
   "cell_type": "code",
   "execution_count": 2,
   "id": "d5d88e21",
   "metadata": {},
   "outputs": [
    {
     "name": "stdout",
     "output_type": "stream",
     "text": [
      "[Errno 2] No such file or directory: 'sample.txt'\n",
      "Program is not interrupted\n"
     ]
    }
   ],
   "source": [
    "try:\n",
    "    f = open('sample.txt','r')\n",
    "except Exception as e:\n",
    "    print(e)\n",
    "else:\n",
    "    print(\"File opened successfully\")\n",
    "    f.close()\n",
    "    \n",
    "print('Program is not interrupted') "
   ]
  },
  {
   "cell_type": "code",
   "execution_count": 3,
   "id": "d8f2bbe3",
   "metadata": {},
   "outputs": [
    {
     "name": "stdout",
     "output_type": "stream",
     "text": [
      "Excepton!!\n"
     ]
    }
   ],
   "source": [
    "try:\n",
    "    raise NameError('akash')\n",
    "except NameError as e:\n",
    "    print(\"Excepton!!\")"
   ]
  },
  {
   "cell_type": "raw",
   "id": "cfc557ba",
   "metadata": {},
   "source": [
    "Q2. What happens if you don't do something extra to treat an exception?\n",
    "answer-Whenever an exception occurs, the program stops the execution, and thus the further code is not executed. Therefore, an exception is the run-time errors that are unable to handle to Python script. An exception is a Python object that represents an error"
   ]
  },
  {
   "cell_type": "code",
   "execution_count": 5,
   "id": "a5c3bb0b",
   "metadata": {},
   "outputs": [
    {
     "name": "stdout",
     "output_type": "stream",
     "text": [
      "Enter an integer value::10\n",
      "Yes you have entered an ineger 10\n",
      "Yayy i always executes!!\n"
     ]
    }
   ],
   "source": [
    "\"\"\"Q3. What are your options for recovering from an exception in your script?\n",
    "answer-In except block, we write a code to handle exception and next set of actions\"\"\"\n",
    "def askint():\n",
    "    while True:\n",
    "        try:\n",
    "            a = int(input('Enter an integer value::'))\n",
    "        except Exception as e:\n",
    "            print(e)\n",
    "            print('Please enter an integer value')\n",
    "            continue\n",
    "        else:\n",
    "            print(f'Yes you have entered an ineger {a}')\n",
    "            break\n",
    "        finally:\n",
    "            print('Yayy i always executes!!')\n",
    "        \n",
    "askint()   "
   ]
  },
  {
   "cell_type": "raw",
   "id": "7a88f70f",
   "metadata": {},
   "source": [
    "Q4. Describe two methods for triggering exceptions in your script?\n",
    "answer-Try statement – This method throws the exceptions when the code within try is executed.\n",
    "\n",
    "Raise – Triggers an exception manually using custom exceptions.\n",
    "\n",
    "Examples are already explained above."
   ]
  },
  {
   "cell_type": "raw",
   "id": "988ecb88",
   "metadata": {},
   "source": [
    "Q5. Identify two methods for specifying actions to be executed at termination time, regardless of whether or not an exception exists.\n",
    "answer-In else block, code is written to handle if no exception is raised by code in try block.\n",
    "\n",
    "In finally block, code executes regardless of whether or not an exception exists."
   ]
  },
  {
   "cell_type": "code",
   "execution_count": null,
   "id": "a145958d",
   "metadata": {},
   "outputs": [],
   "source": []
  }
 ],
 "metadata": {
  "kernelspec": {
   "display_name": "Python 3 (ipykernel)",
   "language": "python",
   "name": "python3"
  },
  "language_info": {
   "codemirror_mode": {
    "name": "ipython",
    "version": 3
   },
   "file_extension": ".py",
   "mimetype": "text/x-python",
   "name": "python",
   "nbconvert_exporter": "python",
   "pygments_lexer": "ipython3",
   "version": "3.9.12"
  }
 },
 "nbformat": 4,
 "nbformat_minor": 5
}
