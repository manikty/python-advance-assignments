{
 "cells": [
  {
   "cell_type": "raw",
   "id": "8d771d1c",
   "metadata": {},
   "source": [
    "Q1. What are the benefits of the built-in array package, if any?\n",
    "answer- : Arrays represent multiple data items of the same type using a single name.In arrays, the elements can be \n",
    "       accessed randomly by using the index number. Arrays allocate memory in contiguous memory locations for all its\n",
    "       elements. Hence there is no chance of extra memory being allocated in case of arrays. This avoids memory \n",
    "     overflow or shortage of memory in arrays."
   ]
  },
  {
   "cell_type": "raw",
   "id": "51167454",
   "metadata": {},
   "source": [
    "Q2. What are some of the array package's limitations?\n",
    "answer- The number of elements to be stored in an array should be known in advance. An array is a static structure \n",
    "      (which means the array is of fixed size). Once declared the size of the array cannot be modified. The memory \n",
    "       which is allocated to it cannot be increased or decreased. Insertion and deletion are quite difficult in an \n",
    "       array as the elements are stored in consecutive memory locations and the shifting operation is costly. \n",
    "       Allocating more memory than the requirement leads to wastage of memory space and less allocation of memory \n",
    "       also leads to a problem."
   ]
  },
  {
   "cell_type": "raw",
   "id": "e9aebebe",
   "metadata": {},
   "source": [
    "Q3. Describe the main differences between the array and numpy packages.\n",
    "answer- The array package doesn't provide any help with numerical calculation with the items insdie it in number form \n",
    "       while NumPy give you a wide variety of numerical operations. An array is a single dimensional entity which hold\n",
    "       the numerical data, while numpy can have more than 1 dimension.In case of array, item can be accessed by its\n",
    "       index position and it is easy task while in numpy item is accessed by its column and row index, which makes \n",
    "       it slightly time taking. Same goes with appending operation.In case of array we do not form a tabular \n",
    "       structure, while in numpy it forms a tabular structure."
   ]
  },
  {
   "cell_type": "raw",
   "id": "51874953",
   "metadata": {},
   "source": [
    "Q4. Explain the distinctions between the empty, ones, and zeros functions.\n",
    "answer- Empty function: An empty function is a function that does not contain any statement within its body. If you \n",
    "       try to write a function definition without any statement in python ,it will return an error. To avoid this,\n",
    "       we use pass statement. pass is a special statement in Python that does nothing. It only works as a dummy \n",
    "       statement ones: This function returns a new array of given shape and data type, where the element’s value is 1.\n",
    "       zeros: This function returns a new array of given shape and data type, where the element’s value is 0"
   ]
  },
  {
   "cell_type": "raw",
   "id": "4b7d0b97",
   "metadata": {},
   "source": [
    "Q5. In the fromfunction function, which is used to construct new arrays, what is the role of the callable argument?\n",
    "answer- Its function is to execute the function over each coordinate and the resulting array. The function is called\n",
    " with N parameters, where N is the rank of shape. Each parameter represents the coordinates of the array \n",
    "varying along a specific axis."
   ]
  },
  {
   "cell_type": "code",
   "execution_count": 1,
   "id": "10252596",
   "metadata": {},
   "outputs": [
    {
     "name": "stdout",
     "output_type": "stream",
     "text": [
      "[[0 1 2]\n",
      " [3 4 5]\n",
      " [6 7 8]]\n",
      "\n",
      "[[1 2 3]\n",
      " [4 5 6]\n",
      " [7 8 9]]\n"
     ]
    }
   ],
   "source": [
    "\"\"\"Q6. What happens when a numpy array is combined with a single-value operand \n",
    "(a scalar, such as an int or a floating-point value) through addition, as in the expression A + n?\"\"\"\n",
    "import numpy as np\n",
    "a=np.arange(9).reshape(3,3)\n",
    "print(a)\n",
    "print()\n",
    "print(a+1)"
   ]
  },
  {
   "cell_type": "raw",
   "id": "e5bb9beb",
   "metadata": {},
   "source": [
    "\"\"\"Q7. Can array-to-scalar operations use combined operation-assign operators (such as += or *=)? What is the outcome?\"\"\"\n",
    "answer- : It will do the operation as per operators. Like if we use + operand it will update the current array by adding \n",
    "       and when we use '*', it will update by multiplying."
   ]
  },
  {
   "cell_type": "code",
   "execution_count": 2,
   "id": "8e7ed470",
   "metadata": {},
   "outputs": [
    {
     "name": "stdout",
     "output_type": "stream",
     "text": [
      "[[0 1 2]\n",
      " [3 4 5]\n",
      " [6 7 8]]\n"
     ]
    }
   ],
   "source": [
    "print(a)"
   ]
  },
  {
   "cell_type": "code",
   "execution_count": 3,
   "id": "9232574f",
   "metadata": {},
   "outputs": [
    {
     "name": "stdout",
     "output_type": "stream",
     "text": [
      "[[1 2 3]\n",
      " [4 5 6]\n",
      " [7 8 9]]\n"
     ]
    }
   ],
   "source": [
    "a+=1\n",
    "print(a)"
   ]
  },
  {
   "cell_type": "code",
   "execution_count": 4,
   "id": "9f152943",
   "metadata": {},
   "outputs": [
    {
     "name": "stdout",
     "output_type": "stream",
     "text": [
      "[[ 2  4  6]\n",
      " [ 8 10 12]\n",
      " [14 16 18]]\n"
     ]
    }
   ],
   "source": [
    "a*=2\n",
    "print(a)"
   ]
  },
  {
   "cell_type": "raw",
   "id": "90e789f6",
   "metadata": {},
   "source": [
    "Q8. Does a numpy array contain fixed-length strings? What happens if you allocate a longer string to one of these arrays?\n",
    " answer-: Yes it is possible that we can include a string of fixed length in numpy array. The dtype of any numpy array \n",
    "containing string values is the maximum length of any string present in the array.\n",
    "Once set, it will only be able to store new string having length not more than the maximum length at the time \n",
    "of the creation. If we try to reassign some another string value having length greater than the maximum length\n",
    "of the existing elements, it simply discards all the values beyond the maximum length accept upto those values \n",
    "which are under the limit."
   ]
  },
  {
   "cell_type": "code",
   "execution_count": 5,
   "id": "6f636be4",
   "metadata": {},
   "outputs": [
    {
     "data": {
      "text/plain": [
       "array(['ram', 'mohan', 'shiva'], dtype='<U5')"
      ]
     },
     "execution_count": 5,
     "metadata": {},
     "output_type": "execute_result"
    }
   ],
   "source": [
    "import numpy as np\n",
    "name = np.array(['ram', 'mohan', 'shiva'])\n",
    "name"
   ]
  },
  {
   "cell_type": "code",
   "execution_count": 6,
   "id": "d0781238",
   "metadata": {},
   "outputs": [
    {
     "name": "stdout",
     "output_type": "stream",
     "text": [
      "['under' 'mohan' 'shiva']\n"
     ]
    }
   ],
   "source": [
    "name[name=='ram']='undertaker'\n",
    "print(name)"
   ]
  },
  {
   "cell_type": "raw",
   "id": "79b437fb",
   "metadata": {},
   "source": [
    "Q9. What happens when you combine two numpy arrays using an operation like addition (+) or multiplication (*)? What are the conditions for combining two numpy arrays?\n",
    "answer-It will simply add or multiply element to element at same position.The only requirement which must be met are:    1)Data type should be same.\n",
    "2) Shape of the two matrices must be same\n",
    "      Example is as follows :"
   ]
  },
  {
   "cell_type": "code",
   "execution_count": 8,
   "id": "c54181e0",
   "metadata": {},
   "outputs": [
    {
     "data": {
      "text/plain": [
       "array([[ 2,  4,  6],\n",
       "       [ 8, 10, 12],\n",
       "       [14, 16, 18]])"
      ]
     },
     "execution_count": 8,
     "metadata": {},
     "output_type": "execute_result"
    }
   ],
   "source": [
    "a1=a\n",
    "a1"
   ]
  },
  {
   "cell_type": "code",
   "execution_count": 9,
   "id": "b89887dc",
   "metadata": {},
   "outputs": [
    {
     "data": {
      "text/plain": [
       "array([[ 4,  6,  8],\n",
       "       [10, 12, 14],\n",
       "       [16, 18, 20]])"
      ]
     },
     "execution_count": 9,
     "metadata": {},
     "output_type": "execute_result"
    }
   ],
   "source": [
    "a2=a+2\n",
    "a2"
   ]
  },
  {
   "cell_type": "code",
   "execution_count": 10,
   "id": "900382fc",
   "metadata": {},
   "outputs": [
    {
     "data": {
      "text/plain": [
       "array([[ 6, 10, 14],\n",
       "       [18, 22, 26],\n",
       "       [30, 34, 38]])"
      ]
     },
     "execution_count": 10,
     "metadata": {},
     "output_type": "execute_result"
    }
   ],
   "source": [
    "a1+a2"
   ]
  },
  {
   "cell_type": "code",
   "execution_count": 11,
   "id": "2881f3bf",
   "metadata": {},
   "outputs": [
    {
     "data": {
      "text/plain": [
       "array([[  8,  24,  48],\n",
       "       [ 80, 120, 168],\n",
       "       [224, 288, 360]])"
      ]
     },
     "execution_count": 11,
     "metadata": {},
     "output_type": "execute_result"
    }
   ],
   "source": [
    "a1*a2"
   ]
  },
  {
   "cell_type": "code",
   "execution_count": 16,
   "id": "66ba7e65",
   "metadata": {},
   "outputs": [
    {
     "name": "stdout",
     "output_type": "stream",
     "text": [
      "[True, True, masked, masked]\n",
      "1\n"
     ]
    }
   ],
   "source": [
    "\"Q10. What is the best way to use a Boolean array to mask another array?\"\n",
    "\n",
    "y = np.array([True,True,False,True])          \n",
    "x = np.array([1,2,3,4])         \n",
    "m = np.ma.masked_where(x>2,y)  \n",
    "print(list(m))\n",
    "print(m.ndim)"
   ]
  },
  {
   "cell_type": "raw",
   "id": "6b987dec",
   "metadata": {},
   "source": [
    "Q11. What are three different ways to get the standard deviation of a wide collection of data using both standard Python and its packages? Sort the three of them by how quickly they execute.\n",
    "answer- Standard deviation can be calculated in amny ways. If wee see the formula of SD, it says \n",
    " std= Square Root of [ Summation of [square of (x-mean)/number of observation] ] .So this can be achive by:\n",
    " 1)Using math module \n",
    " 2)Using Numpy Array package\n",
    " 3) General calculation without using any package"
   ]
  },
  {
   "cell_type": "code",
   "execution_count": 17,
   "id": "ea9ed330",
   "metadata": {},
   "outputs": [
    {
     "ename": "TypeError",
     "evalue": "only size-1 arrays can be converted to Python scalars",
     "output_type": "error",
     "traceback": [
      "\u001b[1;31m---------------------------------------------------------------------------\u001b[0m",
      "\u001b[1;31mTypeError\u001b[0m                                 Traceback (most recent call last)",
      "Input \u001b[1;32mIn [17]\u001b[0m, in \u001b[0;36m<cell line: 6>\u001b[1;34m()\u001b[0m\n\u001b[0;32m      4\u001b[0m total\u001b[38;5;241m=\u001b[39mN\n\u001b[0;32m      5\u001b[0m x\u001b[38;5;241m=\u001b[39m[\u001b[38;5;241m1\u001b[39m,\u001b[38;5;241m2\u001b[39m]\n\u001b[1;32m----> 6\u001b[0m SD\u001b[38;5;241m=\u001b[39m\u001b[43mmath\u001b[49m\u001b[38;5;241;43m.\u001b[39;49m\u001b[43msqrt\u001b[49m\u001b[43m(\u001b[49m\u001b[43m(\u001b[49m\u001b[38;5;241;43m1\u001b[39;49m\u001b[38;5;241;43m-\u001b[39;49m\u001b[43ma\u001b[49m\u001b[43m)\u001b[49m\u001b[38;5;241;43m*\u001b[39;49m\u001b[38;5;241;43m*\u001b[39;49m\u001b[38;5;241;43m2\u001b[39;49m\u001b[38;5;241;43m+\u001b[39;49m\u001b[43m(\u001b[49m\u001b[38;5;241;43m2\u001b[39;49m\u001b[38;5;241;43m-\u001b[39;49m\u001b[43ma\u001b[49m\u001b[43m)\u001b[49m\u001b[38;5;241;43m*\u001b[39;49m\u001b[38;5;241;43m*\u001b[39;49m\u001b[38;5;241;43m2\u001b[39;49m\u001b[38;5;241;43m/\u001b[39;49m\u001b[43mN\u001b[49m\u001b[43m)\u001b[49m\n",
      "\u001b[1;31mTypeError\u001b[0m: only size-1 arrays can be converted to Python scalars"
     ]
    }
   ],
   "source": []
  },
  {
   "cell_type": "code",
   "execution_count": null,
   "id": "2669585f",
   "metadata": {},
   "outputs": [],
   "source": []
  }
 ],
 "metadata": {
  "kernelspec": {
   "display_name": "Python 3 (ipykernel)",
   "language": "python",
   "name": "python3"
  },
  "language_info": {
   "codemirror_mode": {
    "name": "ipython",
    "version": 3
   },
   "file_extension": ".py",
   "mimetype": "text/x-python",
   "name": "python",
   "nbconvert_exporter": "python",
   "pygments_lexer": "ipython3",
   "version": "3.9.12"
  }
 },
 "nbformat": 4,
 "nbformat_minor": 5
}
